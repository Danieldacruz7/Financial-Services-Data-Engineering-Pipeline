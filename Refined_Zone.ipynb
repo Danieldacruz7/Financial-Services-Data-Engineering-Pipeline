{
  "nbformat": 4,
  "nbformat_minor": 0,
  "metadata": {
    "colab": {
      "name": "Refined_Zone.ipynb",
      "provenance": [],
      "collapsed_sections": []
    },
    "kernelspec": {
      "name": "python3",
      "display_name": "Python 3"
    },
    "language_info": {
      "name": "python"
    }
  },
  "cells": [
    {
      "cell_type": "code",
      "source": [
        "import io\n",
        "from pyspark.sql.types import IntegerType, StructField, StructType, TimestampType\n",
        "# Transaction schema needed to be explicitly stated. Not necessary for customer data. \n",
        "schema = StructType([\n",
        "    # Define the name field\n",
        "      StructField('transaction_id', IntegerType(), True),\n",
        "    # Add the age field\n",
        "      StructField('customer_id', IntegerType(), True),\n",
        "      StructField('transaction_amount', IntegerType(), True),\n",
        "    # Add the city field\n",
        "      StructField('transaction_date', TimestampType(), True)\n",
        "    ])\n",
        "\n",
        "transaction_data = spark.read.parquet(\"/content/drive/MyDrive/data_engineer_assessment/refined_zone/Refined_Parquet_Files/transaction_data_*.parquet\", schema=schema)\n",
        "customer_data = spark.read.parquet(\"/content/drive/MyDrive/data_engineer_assessment/refined_zone/Refined_Parquet_Files/customer_data_*.parquet\")"
      ],
      "metadata": {
        "id": "Ay2u1hevvGsw"
      },
      "execution_count": 6,
      "outputs": []
    },
    {
      "cell_type": "markdown",
      "source": [
        ""
      ],
      "metadata": {
        "id": "mhPtE6ZxfvSq"
      }
    },
    {
      "cell_type": "code",
      "source": [
        "from pyspark.sql.functions import *\n",
        "customer_data = customer_data.withColumn(\"birthdate\", substring(col(\"birthdate\"),0,10)) # Rearrange customer birthdate by removing unnecessary 00:00:00 time."
      ],
      "metadata": {
        "id": "treFRH5Vd27Z"
      },
      "execution_count": 7,
      "outputs": []
    },
    {
      "cell_type": "code",
      "source": [
        "# Tried to convert modify transaction date into correct format however only null values were created. Debugging required. \n",
        "\n",
        "\n",
        "#transaction_data = transaction_data.withColumn(\"transaction_date\", col(\"transaction_date\").cast('timestamp').alias('transaction_time'))\n",
        "#transaction_data = transaction_data.withColumn(\"transaction_date\", date_format(col(\"transaction_date\"), \"yyyy-MM-dd HH:mm:ss\")).collect()"
      ],
      "metadata": {
        "id": "8OsESCFrhm0l"
      },
      "execution_count": 12,
      "outputs": []
    },
    {
      "cell_type": "code",
      "source": [
        "transaction_data.createOrReplaceTempView(\"transactions\") # Create a temporary view of transcations data\n",
        "transaction_data"
      ],
      "metadata": {
        "id": "TaGmAn9APop-",
        "colab": {
          "base_uri": "https://localhost:8080/"
        },
        "outputId": "15284a6e-2c5b-45a2-90cb-bd82d845aa48"
      },
      "execution_count": 8,
      "outputs": [
        {
          "output_type": "execute_result",
          "data": {
            "text/plain": [
              "DataFrame[customer_id: int, transaction_amount: double, transaction_date: string, transaction_id: int]"
            ]
          },
          "metadata": {},
          "execution_count": 8
        }
      ]
    },
    {
      "cell_type": "code",
      "source": [
        "customer_data.createOrReplaceTempView(\"customers\") # Create a temporary view of customers data\n",
        "customer_data"
      ],
      "metadata": {
        "id": "EmIFrP_xQI1Z",
        "colab": {
          "base_uri": "https://localhost:8080/"
        },
        "outputId": "f8e7da4e-69e8-4e1d-9fb7-1377a341533a"
      },
      "execution_count": 9,
      "outputs": [
        {
          "output_type": "execute_result",
          "data": {
            "text/plain": [
              "DataFrame[birthdate: string, bank_account_type: string, bank_name: string, employment_status: string, education_level: string, customerid: int]"
            ]
          },
          "metadata": {},
          "execution_count": 9
        }
      ]
    },
    {
      "cell_type": "code",
      "execution_count": 10,
      "metadata": {
        "id": "efLJecrEIGfy",
        "colab": {
          "base_uri": "https://localhost:8080/"
        },
        "outputId": "f62bf088-1dee-4a21-81af-22bf5b26285e"
      },
      "outputs": [
        {
          "output_type": "stream",
          "name": "stdout",
          "text": [
            "[Row(birthdate='1983-01-19', bank_account_type='Other', bank_name='ABSA Bank', employment_status='Self-Employed', education_level='Post-Graduate', customerid=1042), Row(birthdate='1992-02-24', bank_account_type='Other', bank_name='Capitec Bank', employment_status='Permanent', education_level='Post-Graduate', customerid=1100), Row(birthdate='1978-04-16', bank_account_type='Other', bank_name='Access Bank', employment_status='Permanent', education_level='Post-Graduate', customerid=1070), Row(birthdate='1989-07-09', bank_account_type='Savings', bank_name='Capitec Bank', employment_status='Permanent', education_level='Graduate', customerid=1056), Row(birthdate='1985-02-25', bank_account_type='Other', bank_name='Stanbic Bank', employment_status='Unemployed', education_level='Graduate', customerid=1047), Row(birthdate='1990-07-03', bank_account_type='Other', bank_name='ABSA Bank', employment_status='Self-Employed', education_level='Graduate', customerid=1020), Row(birthdate='1979-03-25', bank_account_type='Other', bank_name='Capitec Bank', employment_status='Permanent', education_level='Graduate', customerid=1087), Row(birthdate='1992-09-04', bank_account_type='Savings', bank_name='Capitec Bank', employment_status='Student', education_level='Graduate', customerid=1094), Row(birthdate='1991-11-08', bank_account_type='Other', bank_name='Capitec Bank', employment_status='Permanent', education_level='Graduate', customerid=1086), Row(birthdate='1988-10-03', bank_account_type='Other', bank_name='Access Bank', employment_status='Permanent', education_level='Graduate', customerid=1045), Row(birthdate='1988-01-19', bank_account_type='Savings', bank_name='ABSA Bank', employment_status='Permanent', education_level='Graduate', customerid=1021), Row(birthdate='1986-03-30', bank_account_type='Other', bank_name='Capitec Bank', employment_status='Student', education_level='Graduate', customerid=1077), Row(birthdate='1979-06-04', bank_account_type='Other', bank_name='ABSA Bank', employment_status='Permanent', education_level='Graduate', customerid=1071), Row(birthdate='1987-03-24', bank_account_type='Savings', bank_name='Capitec Bank', employment_status='Self-Employed', education_level=None, customerid=1019), Row(birthdate='1994-06-03', bank_account_type='Other', bank_name='ABSA Bank', employment_status='Student', education_level='Secondary', customerid=1012), Row(birthdate='1981-01-07', bank_account_type='Other', bank_name='Standard Bank', employment_status='Self-Employed', education_level=None, customerid=1027), Row(birthdate='1986-11-02', bank_account_type='Other', bank_name='Standard Bank', employment_status='Self-Employed', education_level=None, customerid=1079), Row(birthdate='1989-02-28', bank_account_type='Other', bank_name='Capitec Bank', employment_status='Self-Employed', education_level=None, customerid=1052), Row(birthdate='1979-07-01', bank_account_type='Savings', bank_name='FNB', employment_status='Permanent', education_level='Secondary', customerid=1049), Row(birthdate='1985-09-07', bank_account_type='Savings', bank_name='Capitec Bank', employment_status='Unemployed', education_level=None, customerid=1097), Row(birthdate='1990-03-28', bank_account_type='Savings', bank_name='Standard Bank', employment_status='Permanent', education_level=None, customerid=1059), Row(birthdate='1988-12-22', bank_account_type='Savings', bank_name='Standard Bank', employment_status='Permanent', education_level=None, customerid=1015), Row(birthdate='1965-02-23', bank_account_type='Savings', bank_name='Standard Bank', employment_status='Permanent', education_level=None, customerid=1009), Row(birthdate='1987-10-07', bank_account_type='Savings', bank_name='Standard Bank', employment_status='Permanent', education_level=None, customerid=1034), Row(birthdate='1992-11-17', bank_account_type='Savings', bank_name='Standard Bank', employment_status='Permanent', education_level=None, customerid=1008), Row(birthdate='1983-05-08', bank_account_type='Savings', bank_name='FNB', employment_status='Permanent', education_level='Graduate', customerid=1018), Row(birthdate='1986-04-15', bank_account_type='Savings', bank_name='Capitec Bank', employment_status='Permanent', education_level=None, customerid=1014), Row(birthdate='1992-01-23', bank_account_type='Savings', bank_name='Capitec Bank', employment_status='Permanent', education_level=None, customerid=1090), Row(birthdate='1983-05-27', bank_account_type='Savings', bank_name='Stanbic Bank', employment_status='Permanent', education_level=None, customerid=1058), Row(birthdate='1986-01-21', bank_account_type='Savings', bank_name='Capitec Bank', employment_status='Permanent', education_level=None, customerid=1001), Row(birthdate='1988-04-22', bank_account_type='Savings', bank_name='Capitec Bank', employment_status='Permanent', education_level=None, customerid=1016), Row(birthdate='1977-07-29', bank_account_type='Current', bank_name='Capitec Bank', employment_status='Permanent', education_level=None, customerid=1033), Row(birthdate='1989-12-15', bank_account_type='Savings', bank_name='Capitec Bank', employment_status='Permanent', education_level=None, customerid=1055), Row(birthdate='1985-10-23', bank_account_type='Savings', bank_name='Capitec Bank', employment_status='Permanent', education_level=None, customerid=1023), Row(birthdate='1987-08-03', bank_account_type='Savings', bank_name='Capitec Bank', employment_status='Permanent', education_level=None, customerid=1026), Row(birthdate='1990-03-19', bank_account_type='Savings', bank_name='Capitec Bank', employment_status='Permanent', education_level=None, customerid=1088), Row(birthdate='1986-05-08', bank_account_type='Savings', bank_name='Capitec Bank', employment_status='Permanent', education_level=None, customerid=1091), Row(birthdate='1992-11-27', bank_account_type='Savings', bank_name='Capitec Bank', employment_status='Permanent', education_level=None, customerid=1096), Row(birthdate='1991-07-19', bank_account_type='Savings', bank_name='Capitec Bank', employment_status='Permanent', education_level=None, customerid=1003), Row(birthdate='1985-12-14', bank_account_type='Savings', bank_name='Capitec Bank', employment_status='Permanent', education_level=None, customerid=1062), Row(birthdate='1987-02-20', bank_account_type='Current', bank_name='Capitec Bank', employment_status='Permanent', education_level=None, customerid=1099), Row(birthdate='1987-07-29', bank_account_type='Savings', bank_name='Capitec Bank', employment_status='Permanent', education_level=None, customerid=1092), Row(birthdate='1983-04-10', bank_account_type='Savings', bank_name='Capitec Bank', employment_status='Permanent', education_level=None, customerid=1072), Row(birthdate='1984-04-19', bank_account_type='Savings', bank_name='Capitec Bank', employment_status='Permanent', education_level=None, customerid=1029), Row(birthdate='1985-04-03', bank_account_type='Savings', bank_name='Capitec Bank', employment_status='Permanent', education_level=None, customerid=1041), Row(birthdate='1983-01-09', bank_account_type='Savings', bank_name='Capitec Bank', employment_status='Permanent', education_level=None, customerid=1089), Row(birthdate='1987-09-13', bank_account_type='Savings', bank_name='Capitec Bank', employment_status='Permanent', education_level=None, customerid=1083), Row(birthdate='1990-07-04', bank_account_type='Savings', bank_name='Capitec Bank', employment_status='Permanent', education_level=None, customerid=1068), Row(birthdate='1986-09-09', bank_account_type='Savings', bank_name='Capitec Bank', employment_status='Permanent', education_level=None, customerid=1007), Row(birthdate='1973-11-23', bank_account_type='Savings', bank_name='Capitec Bank', employment_status='Permanent', education_level=None, customerid=1064), Row(birthdate='1976-07-22', bank_account_type='Savings', bank_name='Capitec Bank', employment_status='Permanent', education_level=None, customerid=1031), Row(birthdate='1987-06-09', bank_account_type='Savings', bank_name='Capitec Bank', employment_status='Permanent', education_level=None, customerid=1060), Row(birthdate='1981-07-22', bank_account_type='Savings', bank_name='Capitec Bank', employment_status='Permanent', education_level=None, customerid=1046), Row(birthdate='1992-10-28', bank_account_type='Savings', bank_name='Capitec Bank', employment_status='Permanent', education_level=None, customerid=1035), Row(birthdate='1993-09-06', bank_account_type='Savings', bank_name='Capitec Bank', employment_status='Permanent', education_level=None, customerid=1028), Row(birthdate='1982-11-22', bank_account_type='Savings', bank_name='Capitec Bank', employment_status='Permanent', education_level=None, customerid=1004), Row(birthdate='1978-12-11', bank_account_type='Savings', bank_name='Capitec Bank', employment_status='Permanent', education_level=None, customerid=1005), Row(birthdate='1987-05-25', bank_account_type='Savings', bank_name='Access Bank', employment_status='Permanent', education_level=None, customerid=1038), Row(birthdate='1976-09-16', bank_account_type='Savings', bank_name='Access Bank', employment_status='Permanent', education_level=None, customerid=1036), Row(birthdate='1988-01-31', bank_account_type='Other', bank_name='Standard Bank', employment_status='Permanent', education_level=None, customerid=1054), Row(birthdate='1984-09-18', bank_account_type='Other', bank_name='Standard Bank', employment_status='Permanent', education_level=None, customerid=1022), Row(birthdate='1991-11-25', bank_account_type='Savings', bank_name='Access Bank', employment_status='Permanent', education_level=None, customerid=1044), Row(birthdate='1995-02-12', bank_account_type='Savings', bank_name='Access Bank', employment_status='Permanent', education_level=None, customerid=1095), Row(birthdate='1990-07-21', bank_account_type='Savings', bank_name='Access Bank', employment_status='Permanent', education_level=None, customerid=1006), Row(birthdate='1982-08-09', bank_account_type='Savings', bank_name='Access Bank', employment_status='Permanent', education_level=None, customerid=1030), Row(birthdate='1975-06-25', bank_account_type='Savings', bank_name='Access Bank', employment_status='Permanent', education_level=None, customerid=1075), Row(birthdate='1989-03-07', bank_account_type='Savings', bank_name='Access Bank', employment_status='Permanent', education_level=None, customerid=1017), Row(birthdate='1995-06-29', bank_account_type='Other', bank_name='ABSA Bank', employment_status='Self-Employed', education_level=None, customerid=1093), Row(birthdate='1989-06-09', bank_account_type='Other', bank_name='FNB', employment_status='Permanent', education_level='Graduate', customerid=1025), Row(birthdate='1979-10-10', bank_account_type='Other', bank_name='FNB', employment_status='Permanent', education_level='Graduate', customerid=1039), Row(birthdate='1988-05-19', bank_account_type='Other', bank_name='Capitec Bank', employment_status='Permanent', education_level=None, customerid=1037), Row(birthdate='1987-06-26', bank_account_type='Other', bank_name='Capitec Bank', employment_status='Permanent', education_level=None, customerid=1066), Row(birthdate='1993-02-12', bank_account_type='Other', bank_name='Capitec Bank', employment_status='Permanent', education_level=None, customerid=1067), Row(birthdate='1973-01-20', bank_account_type='Savings', bank_name='Skye Bank', employment_status='Permanent', education_level=None, customerid=1043), Row(birthdate='1970-07-19', bank_account_type='Savings', bank_name='Skye Bank', employment_status='Permanent', education_level=None, customerid=1011), Row(birthdate='1985-01-18', bank_account_type='Savings', bank_name='Tyme Bank', employment_status='Permanent', education_level=None, customerid=1073), Row(birthdate='1976-06-27', bank_account_type='Savings', bank_name='ABSA Bank', employment_status='Permanent', education_level=None, customerid=1040), Row(birthdate='1988-02-28', bank_account_type='Savings', bank_name='ABSA Bank', employment_status='Permanent', education_level=None, customerid=1063), Row(birthdate='1989-10-14', bank_account_type='Savings', bank_name='ABSA Bank', employment_status='Permanent', education_level=None, customerid=1053), Row(birthdate='1988-06-26', bank_account_type='Savings', bank_name='FNB', employment_status='Permanent', education_level=None, customerid=1048), Row(birthdate='1990-06-28', bank_account_type='Savings', bank_name='FNB', employment_status='Permanent', education_level=None, customerid=1084), Row(birthdate='1987-07-01', bank_account_type='Savings', bank_name='FNB', employment_status='Permanent', education_level=None, customerid=1080), Row(birthdate='1985-09-29', bank_account_type='Savings', bank_name='FNB', employment_status='Permanent', education_level=None, customerid=1061), Row(birthdate='1984-12-03', bank_account_type='Savings', bank_name='FNB', employment_status='Permanent', education_level=None, customerid=1078), Row(birthdate='1982-01-06', bank_account_type='Savings', bank_name='FNB', employment_status='Permanent', education_level=None, customerid=1098), Row(birthdate='1986-12-19', bank_account_type='Savings', bank_name='Capitec Bank', employment_status=None, education_level=None, customerid=1032), Row(birthdate='1973-10-10', bank_account_type='Savings', bank_name='Capitec Bank', employment_status=None, education_level=None, customerid=1000), Row(birthdate='1985-11-23', bank_account_type='Savings', bank_name='Capitec Bank', employment_status=None, education_level=None, customerid=1074), Row(birthdate='1973-02-26', bank_account_type='Savings', bank_name='Capitec Bank', employment_status=None, education_level=None, customerid=1085), Row(birthdate='1983-08-19', bank_account_type='Savings', bank_name='Capitec Bank', employment_status=None, education_level=None, customerid=1057), Row(birthdate='1986-07-28', bank_account_type='Savings', bank_name='Capitec Bank', employment_status=None, education_level=None, customerid=1076), Row(birthdate='1974-07-22', bank_account_type='Other', bank_name='FNB', employment_status='Permanent', education_level=None, customerid=1051), Row(birthdate='1995-03-03', bank_account_type='Savings', bank_name='FNB', employment_status='Student', education_level=None, customerid=1050), Row(birthdate='1990-06-23', bank_account_type='Savings', bank_name='ABSA Bank', employment_status=None, education_level=None, customerid=1082), Row(birthdate='1987-04-01', bank_account_type='Savings', bank_name='Tyme Bank', employment_status=None, education_level=None, customerid=1002), Row(birthdate='1988-11-25', bank_account_type='Savings', bank_name='ABSA Bank', employment_status=None, education_level=None, customerid=1013), Row(birthdate='1985-09-26', bank_account_type='Savings', bank_name='ABSA Bank', employment_status=None, education_level=None, customerid=1024), Row(birthdate='1987-12-23', bank_account_type='Savings', bank_name='FNB', employment_status=None, education_level=None, customerid=1065), Row(birthdate='1990-05-30', bank_account_type='Savings', bank_name='FNB', employment_status=None, education_level=None, customerid=1081), Row(birthdate='1994-12-11', bank_account_type='Savings', bank_name='FNB', employment_status=None, education_level=None, customerid=1010), Row(birthdate='1966-04-21', bank_account_type='Savings', bank_name='FNB', employment_status=None, education_level=None, customerid=1069)]\n"
          ]
        }
      ],
      "source": [
        "import sqlite3 # Create a local database for simplicity. \n",
        "  \n",
        "connection = sqlite3.connect(\"/content/drive/MyDrive/data_engineer_assessment/refined_zone/CustomerTransactions.db\") # connecting to the database\n",
        "\n",
        "crsr = connection.cursor() # cursor creation for connection to database\n",
        "  \n",
        "# SQL command to create a dimension table in the database\n",
        "customers_sql_command = \"\"\"CREATE TABLE IF NOT EXISTS dimCustomers (\n",
        "  customerid integer not null PRIMARY KEY,\n",
        "  birthdate timestamp not null,\n",
        "  bank_account_type varchar(25) not null,\n",
        "  bank_name varchar(25) not null,\n",
        "  employment_status varchar(25),\n",
        "  education_level varchar(25)\n",
        ");\"\"\"\n",
        "  \n",
        "crsr.execute(customers_sql_command) # execute the statement\n",
        "\n",
        "# SQL command to create a fact table in the database\n",
        "transaction_sql_command = \"\"\"CREATE TABLE IF NOT EXISTS factTransactions (\n",
        "  \n",
        "  customer_id integer not null,\n",
        "  transaction_amount integer not null,\n",
        "  transaction_date timestamp not null,\n",
        "  transaction_id integer PRIMARY KEY AUTOINCREMENT,\n",
        "  FOREIGN KEY (customer_id) REFERENCES dimCustomers(customerid)\n",
        ");\"\"\"\n",
        "\n",
        "crsr.execute(transaction_sql_command) # execute the statement\n",
        "\n",
        "transaction_records = spark.sql('SELECT * from transactions').collect() # Retrieve all data in transactions\n",
        "\n",
        "SQL = \"\"\"INSERT INTO factTransactions(customer_id, transaction_amount, transaction_date, transaction_id) VALUES (?,?,?,?)\"\"\" # Insert data into database\n",
        "for row in transaction_records:\n",
        "  row = tuple(row)\n",
        "  crsr.execute(SQL, row)\n",
        "\n",
        "customer_records = spark.sql('SELECT * from customers').collect() # Retrieve all data in customers\n",
        "\n",
        "SQL_2 = \"\"\"INSERT INTO dimCustomers(birthdate, bank_account_type, bank_name, employment_status, education_level, customerid) VALUES (?,?,?,?,?,?)\"\"\" # Insert data into database\n",
        "for row in customer_records:\n",
        "  row = tuple(row)\n",
        "  crsr.execute(SQL_2, row)\n",
        "\n",
        "connection.commit() # Commit changes to database\n",
        "connection.close() # close the connection"
      ]
    },
    {
      "cell_type": "code",
      "source": [
        "\n",
        "conn = sqlite3.connect('/content/drive/MyDrive/data_engineer_assessment/refined_zone/CustomerTransactions.db')  # Connect to database\n",
        "\n",
        "with io.open('/content/drive/MyDrive/data_engineer_assessment/refined_zone/backupdatabase.sql', 'w') as p: #Create SQL Script for database backup.\n",
        "  \n",
        "    for line in conn.iterdump(): \n",
        "        p.write('%s\\n' % line)\n",
        "      \n",
        "print('Backup performed successfully!') # Print if successful\n",
        "print('Data Saved as backupdatabase.sql')\n",
        "  \n",
        "conn.close() # Close connection"
      ],
      "metadata": {
        "id": "9vs88VxzIUNl",
        "colab": {
          "base_uri": "https://localhost:8080/"
        },
        "outputId": "412be6ac-94c8-4e37-86ec-924429de9d26"
      },
      "execution_count": 11,
      "outputs": [
        {
          "output_type": "stream",
          "name": "stdout",
          "text": [
            " Backup performed successfully!\n",
            " Data Saved as backupdatabase.sql\n"
          ]
        }
      ]
    }
  ]
}