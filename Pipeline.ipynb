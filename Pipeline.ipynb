{
  "cells": [
    {
      "cell_type": "markdown",
      "metadata": {
        "id": "mukBTBVYCiA-"
      },
      "source": [
        "# **Data Pipeline Notebook**\n",
        "\n",
        "### Stages of the Data Pipeline: \n",
        "1.   Environment Setup \n",
        "2.   Raw Data Processing\n",
        "3.   Data Refining and Database Insertion \n",
        "\n",
        "\n",
        "Note: \n",
        "- Given the amount of time to create the project from scratch, the pipeline runs as best as it can. Given a little bit more time, most issues should be resolved. I have listed issues below:\n",
        "  - There was some difficulty in running the notebooks on my local computer but I improvised and moved the work onto Google Drive and processed the data on Google Colab. There seemed to be quite a few environment problems on local computer. \n",
        "  - Relative file paths need to be used instead of absolute paths. \n",
        "  - Need to make code more robust to file name differences to make sure code can generalize well to unknown file types and different names.  \n",
        "  - There was an issue trying to rearrange date format for the transaction table although code has been written to resolve the issue, it didn't seem to work in this case even after looking into documentation.\n",
        "  - Exploratory data analysis should have been done on CSV files to further understand values to be inserted into the database. This would include counting the number of duplicates, anomaly detection, etc.   \n",
        "- An ideal data pipeline should flow without having data be reset. This needs to be fixed although the pipeline runs as best I could make it. "
      ]
    },
    {
      "cell_type": "markdown",
      "metadata": {
        "id": "nJfGYWHrDm33"
      },
      "source": [
        "## Stage 1 - Environment Setup"
      ]
    },
    {
      "cell_type": "code",
      "execution_count": null,
      "metadata": {
        "colab": {
          "base_uri": "https://localhost:8080/"
        },
        "id": "K70HhdK5VAWA",
        "outputId": "a32ee1bb-484b-412d-a9fb-bca9ece918b1"
      },
      "outputs": [
        {
          "name": "stdout",
          "output_type": "stream",
          "text": [
            "Drive already mounted at /content/drive; to attempt to forcibly remount, call drive.mount(\"/content/drive\", force_remount=True).\n"
          ]
        }
      ],
      "source": [
        "from google.colab import drive\n",
        "drive.mount('/content/drive') # Retrieve data from Google Cloud"
      ]
    },
    {
      "cell_type": "code",
      "execution_count": null,
      "metadata": {
        "colab": {
          "base_uri": "https://localhost:8080/"
        },
        "id": "Srv40TauUs4z",
        "outputId": "7047c2ec-0461-4b2d-9342-3132114024a3"
      },
      "outputs": [
        {
          "name": "stdout",
          "output_type": "stream",
          "text": [
            "Requirement already satisfied: pyspark in /usr/local/lib/python3.7/dist-packages (3.2.1)\n",
            "Requirement already satisfied: py4j==0.10.9.3 in /usr/local/lib/python3.7/dist-packages (from pyspark) (0.10.9.3)\n"
          ]
        }
      ],
      "source": [
        "!pip install pyspark # Downloading Pyspark Library"
      ]
    },
    {
      "cell_type": "code",
      "execution_count": 20,
      "metadata": {
        "id": "VinYB2uqUyKN"
      },
      "outputs": [],
      "source": [
        "import re\n",
        "from datetime import datetime as dt\n",
        "import datetime\n",
        "from pyspark.sql.functions import *\n",
        "import os\n",
        "import fnmatch\n",
        "\n",
        "# Import the SparkSession class\n",
        "from pyspark.sql import SparkSession\n",
        "from pyspark.sql.types import StringType, StructField, StructType, IntegerType\n",
        "\n",
        "# Create SparkSession object\n",
        "spark = SparkSession.builder \\\n",
        "                    .master('local[*]') \\\n",
        "                    .appName('Cape AI App') \\\n",
        "                    .getOrCreate()"
      ]
    },
    {
      "cell_type": "markdown",
      "metadata": {
        "id": "WqgBcW6gDumj"
      },
      "source": [
        "## Stage 2 - Raw Data Processing"
      ]
    },
    {
      "cell_type": "code",
      "execution_count": null,
      "metadata": {
        "colab": {
          "base_uri": "https://localhost:8080/"
        },
        "id": "4dRENZaMSJy_",
        "outputId": "02765bf8-d6fb-45e7-cbe1-06016c4ab7d1"
      },
      "outputs": [
        {
          "name": "stdout",
          "output_type": "stream",
          "text": [
            "Reading customer file...\n",
            "Cleaning customer file data...\n",
            "\n",
            "First 5 rows of Customer data:\n",
            "+----------+-------------------+-----------------+------------+-----------------+---------------+\n",
            "|customerid|          birthdate|bank_account_type|   bank_name|employment_status|education_level|\n",
            "+----------+-------------------+-----------------+------------+-----------------+---------------+\n",
            "|      1000|1973-10-10 00:00:00|          Savings|Capitec Bank|             null|           null|\n",
            "|      1001|1986-01-21 00:00:00|          Savings|Capitec Bank|        Permanent|           null|\n",
            "|      1002|1987-04-01 00:00:00|          Savings|   Tyme Bank|             null|           null|\n",
            "|      1003|1991-07-19 00:00:00|          Savings|Capitec Bank|        Permanent|           null|\n",
            "|      1004|1982-11-22 00:00:00|          Savings|Capitec Bank|        Permanent|           null|\n",
            "+----------+-------------------+-----------------+------------+-----------------+---------------+\n",
            "only showing top 5 rows\n",
            "\n",
            "Printing table schema:\n",
            "root\n",
            " |-- customerid: integer (nullable = true)\n",
            " |-- birthdate: string (nullable = true)\n",
            " |-- bank_account_type: string (nullable = true)\n",
            " |-- bank_name: string (nullable = true)\n",
            " |-- employment_status: string (nullable = true)\n",
            " |-- education_level: string (nullable = true)\n",
            "\n",
            "Reading customer file...\n",
            "Cleaning customer file data...\n",
            "\n",
            "First 5 rows of Customer data:\n",
            "+----------+-------------------+-----------------+-------------+-----------------+---------------+\n",
            "|customerid|          birthdate|bank_account_type|    bank_name|employment_status|education_level|\n",
            "+----------+-------------------+-----------------+-------------+-----------------+---------------+\n",
            "|      1005|1978-12-11 00:00:00|          Savings| Capitec Bank|        Permanent|           null|\n",
            "|      1006|1990-07-21 00:00:00|          Savings|  Access Bank|        Permanent|           null|\n",
            "|      1009|1965-02-23 00:00:00|          Savings|Standard Bank|        Permanent|           null|\n",
            "|      1012|1994-06-03 00:00:00|            Other|    ABSA Bank|        Permanent|      Secondary|\n",
            "|      1018|1983-05-08 00:00:00|          Savings|          FNB|        Permanent|       Graduate|\n",
            "+----------+-------------------+-----------------+-------------+-----------------+---------------+\n",
            "only showing top 5 rows\n",
            "\n",
            "Printing table schema:\n",
            "root\n",
            " |-- customerid: integer (nullable = true)\n",
            " |-- birthdate: string (nullable = true)\n",
            " |-- bank_account_type: string (nullable = true)\n",
            " |-- bank_name: string (nullable = true)\n",
            " |-- employment_status: string (nullable = true)\n",
            " |-- education_level: string (nullable = true)\n",
            "\n",
            "Reading customer file...\n",
            "Cleaning customer file data...\n",
            "\n",
            "First 5 rows of Customer data:\n",
            "+----------+-------------------+-----------------+------------+-----------------+---------------+\n",
            "|customerid|          birthdate|bank_account_type|   bank_name|employment_status|education_level|\n",
            "+----------+-------------------+-----------------+------------+-----------------+---------------+\n",
            "|      1003|1991-07-19 00:00:00|          Savings|Capitec Bank|        Permanent|           null|\n",
            "|      1004|1982-11-22 00:00:00|          Savings|         FNB|        Permanent|  Post-Graduate|\n",
            "|      1005|1978-12-11 00:00:00|          Savings|Capitec Bank|        Permanent|           null|\n",
            "|      1006|1990-07-21 00:00:00|          Savings| Access Bank|        Permanent|           null|\n",
            "|      1007|1986-09-09 00:00:00|          Savings|Capitec Bank|        Permanent|           null|\n",
            "+----------+-------------------+-----------------+------------+-----------------+---------------+\n",
            "only showing top 5 rows\n",
            "\n",
            "Printing table schema:\n",
            "root\n",
            " |-- customerid: integer (nullable = true)\n",
            " |-- birthdate: string (nullable = true)\n",
            " |-- bank_account_type: string (nullable = true)\n",
            " |-- bank_name: string (nullable = true)\n",
            " |-- employment_status: string (nullable = true)\n",
            " |-- education_level: string (nullable = true)\n",
            "\n"
          ]
        }
      ],
      "source": [
        "%run /content/drive/MyDrive/data_engineer_assessment/Raw_Zone.ipynb"
      ]
    },
    {
      "cell_type": "markdown",
      "metadata": {
        "id": "ciesUjbFMNx1"
      },
      "source": [
        "## Stage 3 - Data Refining and Database Insertion"
      ]
    },
    {
      "cell_type": "code",
      "execution_count": 25,
      "metadata": {
        "colab": {
          "base_uri": "https://localhost:8080/"
        },
        "id": "39_xCXPyTyhI",
        "outputId": "7d21891d-99b1-4b0d-d95a-843910a70d52"
      },
      "outputs": [
        {
          "output_type": "stream",
          "name": "stdout",
          "text": [
            "Backup performed successfully!\n",
            "Data Saved as backupdatabase.sql\n"
          ]
        }
      ],
      "source": [
        "%run /content/drive/MyDrive/data_engineer_assessment/Refined_Zone.ipynb"
      ]
    },
    {
      "cell_type": "markdown",
      "metadata": {
        "id": "5ZJo-j27Q5j7"
      },
      "source": [
        "### Querying Database for Credit Balance of Customers"
      ]
    },
    {
      "cell_type": "code",
      "execution_count": 26,
      "metadata": {
        "colab": {
          "base_uri": "https://localhost:8080/"
        },
        "id": "fU4iPlU3Q4pd",
        "outputId": "b18adad9-cc84-4418-9bee-44c0ee76afd0"
      },
      "outputs": [
        {
          "output_type": "stream",
          "name": "stdout",
          "text": [
            "+-----------+--------------+\n",
            "|Customer_id|Credit_Balance|\n",
            "+-----------+--------------+\n",
            "|       1000|           185|\n",
            "|       1003|           -31|\n",
            "|       1004|          -115|\n",
            "|       1005|           255|\n",
            "|       1006|          -598|\n",
            "+-----------+--------------+\n",
            "only showing top 5 rows\n",
            "\n"
          ]
        }
      ],
      "source": [
        "connection = sqlite3.connect(\"/content/drive/MyDrive/data_engineer_assessment/refined_zone/CustomerTransactions.db\")\n",
        "crsr = connection.cursor()\n",
        "\n",
        "\n",
        "schema = StructType([\n",
        "# Define the name field\n",
        "StructField('Customer_id', IntegerType(), True),\n",
        "# Add the age field\n",
        "StructField('Credit_Balance', IntegerType(), True),\n",
        "])\n",
        "\n",
        "transaction_sql_command = \"\"\"SELECT customer_id, SUM(transaction_amount) from factTransactions\n",
        "                              group by customer_id\"\"\"\n",
        "\n",
        "crsr.execute(transaction_sql_command)\n",
        "\n",
        "output = crsr.fetchall()\n",
        "df = spark.createDataFrame(output, schema=schema)\n",
        "df.show(5)\n",
        "\n",
        "connection.close()"
      ]
    }
  ],
  "metadata": {
    "colab": {
      "collapsed_sections": [],
      "name": "Pipeline.ipynb",
      "provenance": []
    },
    "kernelspec": {
      "display_name": "Python 3",
      "name": "python3"
    },
    "language_info": {
      "name": "python"
    }
  },
  "nbformat": 4,
  "nbformat_minor": 0
}